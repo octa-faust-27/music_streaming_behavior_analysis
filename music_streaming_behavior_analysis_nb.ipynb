{
 "cells": [
  {
   "cell_type": "markdown",
   "metadata": {},
   "source": [
    "----"
   ]
  },
  {
   "cell_type": "markdown",
   "metadata": {
    "id": "E0vqbgi9ay0H"
   },
   "source": [
    "# Déjame escuchar la música"
   ]
  },
  {
   "cell_type": "markdown",
   "metadata": {
    "id": "fhq_eyov_Zcs"
   },
   "source": [
    "# Contenido <a id='back'></a>\n",
    "\n",
    "* [Introducción](#intro)\n",
    "* [Etapa 1. Descripción de los datos](#data_review)\n",
    "    * [Conclusiones](#data_review_conclusions)\n",
    "* [Etapa 2. Preprocesamiento de datos](#data_preprocessing)\n",
    "    * [2.1 Estilo del encabezado](#header_style)\n",
    "    * [2.2 Valores ausentes](#missing_values)\n",
    "    * [2.3 Duplicados](#duplicates)\n",
    "    * [2.4 Conclusiones](#data_preprocessing_conclusions)\n",
    "* [Etapa 3. Prueba de hipótesis](#hypothesis)\n",
    "    * [3.1 Hipótesis 1: actividad de los usuarios y las usuarias en las dos ciudades](#activity)\n",
    "* [Conclusiones](#end)"
   ]
  },
  {
   "cell_type": "markdown",
   "metadata": {
    "id": "VUC88oWjTJw2"
   },
   "source": [
    "## Introducción <a id='intro'></a>\n",
    "Como analista de datos, tu trabajo consiste en analizar datos para extraer información valiosa y tomar decisiones basadas en ellos. Esto implica diferentes etapas, como la descripción general de los datos, el preprocesamiento y la prueba de hipótesis.\n",
    "\n",
    "Siempre que investigamos, necesitamos formular hipótesis que después podamos probar. A veces aceptamos estas hipótesis; otras veces, las rechazamos. Para tomar las decisiones correctas, una empresa debe ser capaz de entender si está haciendo las suposiciones correctas.\n",
    "\n",
    "En este proyecto, compararás las preferencias musicales de las ciudades de Springfield y Shelbyville. Estudiarás datos reales de transmisión de música online para probar la hipótesis a continuación y comparar el comportamiento de los usuarios y las usuarias de estas dos ciudades.\n",
    "\n",
    "### Objetivo:\n",
    "Prueba la hipótesis:\n",
    "1. La actividad de los usuarios y las usuarias difiere según el día de la semana y dependiendo de la ciudad.\n",
    "\n",
    "\n",
    "### Etapas\n",
    "Los datos del comportamiento del usuario se almacenan en el archivo `/datasets/music_project_en.csv`. No hay ninguna información sobre la calidad de los datos, así que necesitarás examinarlos antes de probar la hipótesis.\n",
    "\n",
    "Primero, evaluarás la calidad de los datos y verás si los problemas son significativos. Entonces, durante el preprocesamiento de datos, tomarás en cuenta los problemas más críticos.\n",
    "\n",
    "Tu proyecto consistirá en tres etapas:\n",
    " 1. Descripción de los datos.\n",
    " 2. Preprocesamiento de datos.\n",
    " 3. Prueba de hipótesis.\n",
    "\n",
    "\n",
    "\n",
    "\n",
    "\n",
    "\n"
   ]
  },
  {
   "cell_type": "markdown",
   "metadata": {
    "id": "hDt6pg-Rw-1U"
   },
   "source": [
    "[Volver a Contenidos](#back)"
   ]
  },
  {
   "cell_type": "markdown",
   "metadata": {
    "id": "Ml1hmfXC_Zcs"
   },
   "source": [
    "## Etapa 1. Descripción de los datos <a id='data_review'></a>\n",
    "\n",
    "Abre los datos y examínalos."
   ]
  },
  {
   "cell_type": "markdown",
   "metadata": {
    "id": "57eAOGIz_Zcs"
   },
   "source": [
    "Necesitarás `pandas`, así que impórtalo."
   ]
  },
  {
   "cell_type": "code",
   "execution_count": 2,
   "metadata": {
    "id": "AXN7PHPN_Zcs"
   },
   "outputs": [],
   "source": [
    "# Importar pandas\n",
    "import pandas as pd\n"
   ]
  },
  {
   "cell_type": "markdown",
   "metadata": {
    "id": "SG23P8tt_Zcs"
   },
   "source": [
    "Lee el archivo `music_project_en.csv` de la carpeta `/datasets/` y guárdalo en la variable `df`:"
   ]
  },
  {
   "cell_type": "code",
   "execution_count": 3,
   "metadata": {
    "id": "fFVu7vqh_Zct"
   },
   "outputs": [],
   "source": [
    "# Leer el archivo y almacenarlo en df\n",
    "df = pd.read_csv('/datasets/music_project_en.csv')\n"
   ]
  },
  {
   "cell_type": "markdown",
   "metadata": {
    "id": "rDoOMd3uTqnZ"
   },
   "source": [
    "Muestra las 10 primeras filas de la tabla:"
   ]
  },
  {
   "cell_type": "code",
   "execution_count": 4,
   "metadata": {
    "id": "oWTVX3gW_Zct"
   },
   "outputs": [
    {
     "name": "stdout",
     "output_type": "stream",
     "text": [
      "     userID                        Track            artist   genre  \\\n",
      "0  FFB692EC            Kamigata To Boots  The Mass Missile    rock   \n",
      "1  55204538  Delayed Because of Accident  Andreas Rönnberg    rock   \n",
      "2    20EC38            Funiculì funiculà       Mario Lanza     pop   \n",
      "3  A3DD03C9        Dragons in the Sunset        Fire + Ice    folk   \n",
      "4  E2DC1FAE                  Soul People        Space Echo   dance   \n",
      "5  842029A1                       Chains          Obladaet  rusrap   \n",
      "6  4CB90AA5                         True      Roman Messer   dance   \n",
      "7  F03E1C1F             Feeling This Way   Polina Griffith   dance   \n",
      "8  8FA1D3BE                     L’estate       Julia Dalia  ruspop   \n",
      "9  E772D5C0                    Pessimist               NaN   dance   \n",
      "\n",
      "        City        time        Day  \n",
      "0  Shelbyville  20:28:33  Wednesday  \n",
      "1  Springfield  14:07:09     Friday  \n",
      "2  Shelbyville  20:58:07  Wednesday  \n",
      "3  Shelbyville  08:37:09     Monday  \n",
      "4  Springfield  08:34:34     Monday  \n",
      "5  Shelbyville  13:09:41     Friday  \n",
      "6  Springfield  13:00:07  Wednesday  \n",
      "7  Springfield  20:47:49  Wednesday  \n",
      "8  Springfield  09:17:40     Friday  \n",
      "9  Shelbyville  21:20:49  Wednesday  \n"
     ]
    }
   ],
   "source": [
    "# Obtener las 10 primeras filas de la tabla df\n",
    "print(df.head(10))\n"
   ]
  },
  {
   "cell_type": "markdown",
   "metadata": {
    "id": "EO73Kwic_Zct"
   },
   "source": [
    "Obtén la información general sobre la tabla con un comando. Conoces el método que muestra la información general que necesitamos."
   ]
  },
  {
   "cell_type": "code",
   "execution_count": 5,
   "metadata": {
    "id": "DSf2kIb-_Zct"
   },
   "outputs": [
    {
     "name": "stdout",
     "output_type": "stream",
     "text": [
      "<class 'pandas.core.frame.DataFrame'>\n",
      "RangeIndex: 65079 entries, 0 to 65078\n",
      "Data columns (total 7 columns):\n",
      " #   Column    Non-Null Count  Dtype \n",
      "---  ------    --------------  ----- \n",
      " 0     userID  65079 non-null  object\n",
      " 1   Track     63736 non-null  object\n",
      " 2   artist    57512 non-null  object\n",
      " 3   genre     63881 non-null  object\n",
      " 4     City    65079 non-null  object\n",
      " 5   time      65079 non-null  object\n",
      " 6   Day       65079 non-null  object\n",
      "dtypes: object(7)\n",
      "memory usage: 3.5+ MB\n"
     ]
    }
   ],
   "source": [
    "# Obtener la información general sobre nuestros datos\n",
    "df.info()"
   ]
  },
  {
   "cell_type": "markdown",
   "metadata": {
    "id": "TaQ2Iwbr_Zct"
   },
   "source": [
    "Estas son nuestras observaciones sobre la tabla. Contiene siete columnas. Almacenan los mismos tipos de datos: `object`.\n",
    "\n",
    "Según la documentación:\n",
    "- `' userID'`: identificador del usuario o la usuaria;\n",
    "- `'Track'`: título de la canción;\n",
    "- `'artist'`: nombre del artista;\n",
    "- `'genre'`: género de la pista;\n",
    "- `'City'`: ciudad del usuario o la usuaria;\n",
    "- `'time'`: la hora exacta en la que se reprodujo la canción;\n",
    "- `'Day'`: día de la semana.\n",
    "\n",
    "Podemos ver tres problemas con el estilo en los encabezados de la tabla:\n",
    "1. Algunos encabezados están en mayúsculas, otros en minúsculas.\n",
    "2. Hay espacios en algunos encabezados.\n",
    "3. `Detecta el tercer problema por tu cuenta y descríbelo aquí`.\n",
    "El userID no tiene espacios y el encabezado time no indica el formato de tiempo que tiene. Por la información previa sabemos que es HH:MM:SS, pero no se intuye formalmente en el encabezado.\n",
    "\n",
    "\n"
   ]
  },
  {
   "cell_type": "markdown",
   "metadata": {
    "id": "MCB6-dXG_Zct"
   },
   "source": [
    "### Escribe observaciones de tu parte. Estas son algunas de las preguntas que pueden ser útiles: <a id='data_review_conclusions'></a>\n",
    "\n",
    "`1.   ¿Qué tipo de datos tenemos a nuestra disposición en las filas? ¿Y cómo podemos entender lo que almacenan las columnas?`\n",
    "Tenemos siete columnas con datos tipo object, la información general nos da el nombre de la columna (column), el conteo de valores de cada celda no nulos (Non-Null Count) y el tipo de dato (Dtype). \n",
    "\n",
    "`2.   ¿Hay suficientes datos para proporcionar respuestas a nuestra hipótesis o necesitamos más información?`\n",
    "Considerando los valores no nulos de cada columna son datos suficientes en su conjunto para obtener una conclusión válida.\n",
    "\n",
    "`3.   ¿Notaste algún problema en los datos, como valores ausentes, duplicados o tipos de datos incorrectos?`\n",
    "Hay valores nulos en la columna Track, artist y genre. "
   ]
  },
  {
   "cell_type": "markdown",
   "metadata": {
    "id": "3eL__vcwViOi"
   },
   "source": [
    "[Volver a Contenidos](#back)"
   ]
  },
  {
   "cell_type": "markdown",
   "metadata": {
    "id": "SjYF6Ub9_Zct"
   },
   "source": [
    "## Etapa 2. Preprocesamiento de datos <a id='data_preprocessing'></a>\n",
    "\n",
    "El objetivo aquí es preparar los datos para que sean analizados.\n",
    "El primer paso es resolver cualquier problema con los encabezados. Luego podemos avanzar a los valores ausentes y duplicados. Empecemos.\n",
    "\n",
    "Corrige el formato en los encabezados de la tabla.\n"
   ]
  },
  {
   "cell_type": "markdown",
   "metadata": {
    "id": "dIaKXr29_Zct"
   },
   "source": [
    "### Estilo del encabezado <a id='header_style'></a>\n",
    "Muestra los encabezados de la tabla (los nombres de las columnas):"
   ]
  },
  {
   "cell_type": "code",
   "execution_count": 6,
   "metadata": {
    "id": "oKOTdF_Q_Zct"
   },
   "outputs": [
    {
     "name": "stdout",
     "output_type": "stream",
     "text": [
      "Index(['  userID', 'Track', 'artist', 'genre', '  City  ', 'time', 'Day'], dtype='object')\n"
     ]
    }
   ],
   "source": [
    "# Muestra los nombres de las columnas\n",
    "print(df.columns)"
   ]
  },
  {
   "cell_type": "markdown",
   "metadata": {
    "id": "zj5534cv_Zct"
   },
   "source": [
    "Cambia los encabezados de la tabla de acuerdo con las reglas del buen estilo:\n",
    "* Todos los caracteres deben ser minúsculas.\n",
    "* Elimina los espacios.\n",
    "* Si el nombre tiene varias palabras, utiliza snake_case."
   ]
  },
  {
   "cell_type": "markdown",
   "metadata": {
    "id": "Xu0zkfe5zNJe"
   },
   "source": [
    "Anteriormente, aprendiste acerca de la forma automática de cambiar el nombre de las columnas. Vamos a aplicarla ahora. Utiliza el bucle for para iterar sobre los nombres de las columnas y poner todos los caracteres en minúsculas. Cuando hayas terminado, vuelve a mostrar los encabezados de la tabla:"
   ]
  },
  {
   "cell_type": "code",
   "execution_count": 7,
   "metadata": {
    "id": "6I_RwwMhzM4e"
   },
   "outputs": [
    {
     "name": "stdout",
     "output_type": "stream",
     "text": [
      "Index(['  userid', 'track', 'artist', 'genre', '  city  ', 'time', 'day'], dtype='object')\n"
     ]
    }
   ],
   "source": [
    "# Bucle en los encabezados poniendo todo en minúsculas\n",
    "new_col_names = []\n",
    "for old_name in df.columns:\n",
    "    name_lowered = old_name.lower()\n",
    "    new_col_names.append(name_lowered)\n",
    "\n",
    "df.columns =new_col_names\n",
    "print(df.columns)\n"
   ]
  },
  {
   "cell_type": "markdown",
   "metadata": {
    "id": "pweIRxjSzPYW"
   },
   "source": [
    "Ahora, utilizando el mismo método, elimina los espacios al principio y al final de los nombres de las columnas e imprime los nombres de las columnas nuevamente:"
   ]
  },
  {
   "cell_type": "code",
   "execution_count": 8,
   "metadata": {
    "id": "vVQXbFyJzSYl"
   },
   "outputs": [
    {
     "name": "stdout",
     "output_type": "stream",
     "text": [
      "Index(['userid', 'track', 'artist', 'genre', 'city', 'time', 'day'], dtype='object')\n"
     ]
    }
   ],
   "source": [
    "# Bucle en los encabezados eliminando los espacios\n",
    "new_col_names = []\n",
    "for old_name in df.columns:\n",
    "    name_stripped = old_name.strip()\n",
    "    new_col_names.append(name_stripped)\n",
    "df.columns = new_col_names\n",
    "print(df.columns)"
   ]
  },
  {
   "cell_type": "markdown",
   "metadata": {
    "id": "yCb8MW1JzURd"
   },
   "source": [
    "Necesitamos aplicar la regla de snake_case a la columna `userid`. Debe ser `user_id`. Cambia el nombre de esta columna y muestra los nombres de todas las columnas cuando hayas terminado."
   ]
  },
  {
   "cell_type": "code",
   "execution_count": 9,
   "metadata": {
    "id": "ISlFqs5y_Zct"
   },
   "outputs": [
    {
     "name": "stdout",
     "output_type": "stream",
     "text": [
      "Index(['user_id', 'track', 'artist', 'genre', 'city', 'time', 'day'], dtype='object')\n"
     ]
    }
   ],
   "source": [
    "# Cambiar el nombre de la columna \"userid\"\n",
    "new_col_names = []\n",
    "for old_name in df.columns:\n",
    "    new_name = old_name.replace('userid', 'user_id')\n",
    "    new_col_names.append(new_name)\n",
    "df.columns = new_col_names\n",
    "print(df.columns)"
   ]
  },
  {
   "cell_type": "markdown",
   "metadata": {
    "id": "1dqbh00J_Zct"
   },
   "source": [
    "Comprueba el resultado. Muestra los encabezados una vez más:"
   ]
  },
  {
   "cell_type": "code",
   "execution_count": 10,
   "metadata": {
    "id": "d4NOAmTW_Zct"
   },
   "outputs": [
    {
     "name": "stdout",
     "output_type": "stream",
     "text": [
      "Index(['user_id', 'track', 'artist', 'genre', 'city', 'time', 'day'], dtype='object')\n"
     ]
    }
   ],
   "source": [
    "# Comprobar el resultado: la lista de encabezados\n",
    "print(df.columns)"
   ]
  },
  {
   "cell_type": "markdown",
   "metadata": {
    "id": "xYJk6ksJVpOl"
   },
   "source": [
    "[Volver a Contenidos](#back)"
   ]
  },
  {
   "cell_type": "markdown",
   "metadata": {
    "id": "5ISfbcfY_Zct"
   },
   "source": [
    "### Valores ausentes <a id='missing_values'></a>\n",
    " Primero, encuentra el número de valores ausentes en la tabla. Debes utilizar dos métodos en una secuencia para obtener el número de valores ausentes."
   ]
  },
  {
   "cell_type": "code",
   "execution_count": 11,
   "metadata": {
    "id": "RskX29qr_Zct"
   },
   "outputs": [
    {
     "name": "stdout",
     "output_type": "stream",
     "text": [
      "user_id       0\n",
      "track      1343\n",
      "artist     7567\n",
      "genre      1198\n",
      "city          0\n",
      "time          0\n",
      "day           0\n",
      "dtype: int64\n"
     ]
    }
   ],
   "source": [
    "# Calcular el número de valores ausentes\n",
    "print(df.isna().sum())"
   ]
  },
  {
   "cell_type": "markdown",
   "metadata": {
    "id": "qubhgnlO_Zct"
   },
   "source": [
    "No todos los valores ausentes afectan a la investigación. Por ejemplo, los valores ausentes en `track` y `artist` no son cruciales. Simplemente puedes reemplazarlos con valores predeterminados como el string `'unknown'` (desconocido).\n",
    "\n",
    "Pero los valores ausentes en `'genre'` pueden afectar la comparación entre las preferencias musicales de Springfield y Shelbyville. En la vida real, sería útil saber las razones por las cuales hay datos ausentes e intentar recuperarlos. Pero no tenemos esa oportunidad en este proyecto. Así que tendrás que:\n",
    "* rellenar estos valores ausentes con un valor predeterminado;\n",
    "* evaluar cuánto podrían afectar los valores ausentes a tus cómputos;"
   ]
  },
  {
   "cell_type": "markdown",
   "metadata": {
    "id": "fSv2laPA_Zct"
   },
   "source": [
    "Reemplazar los valores ausentes en las columnas `'track'`, `'artist'` y `'genre'` con el string `'unknown'`. Como mostramos anteriormente en las lecciones, la mejor forma de hacerlo es crear una lista que almacene los nombres de las columnas donde se necesita el reemplazo. Luego, utiliza esta lista e itera sobre las columnas donde se necesita el reemplazo haciendo el propio reemplazo."
   ]
  },
  {
   "cell_type": "code",
   "execution_count": 12,
   "metadata": {
    "id": "KplB5qWs_Zct"
   },
   "outputs": [
    {
     "name": "stdout",
     "output_type": "stream",
     "text": [
      "user_id    0\n",
      "track      0\n",
      "artist     0\n",
      "genre      0\n",
      "city       0\n",
      "time       0\n",
      "day        0\n",
      "dtype: int64\n"
     ]
    }
   ],
   "source": [
    "# Bucle en los encabezados reemplazando los valores ausentes con 'unknown'\n",
    "columnas_a_reemplazar = ['track', 'artist', 'genre']\n",
    "for col in columnas_a_reemplazar:\n",
    "    df[col].fillna('unknown', inplace = True)\n",
    "print(df.isna().sum())"
   ]
  },
  {
   "cell_type": "markdown",
   "metadata": {
    "id": "Ilsm-MZo_Zct"
   },
   "source": [
    "Ahora comprueba el resultado para asegurarte de que después del reemplazo no haya valores ausentes en el conjunto de datos. Para hacer esto, cuenta los valores ausentes nuevamente."
   ]
  },
  {
   "cell_type": "code",
   "execution_count": 13,
   "metadata": {
    "id": "Tq4nYRX4_Zct"
   },
   "outputs": [
    {
     "name": "stdout",
     "output_type": "stream",
     "text": [
      "user_id    0\n",
      "track      0\n",
      "artist     0\n",
      "genre      0\n",
      "city       0\n",
      "time       0\n",
      "day        0\n",
      "dtype: int64\n"
     ]
    }
   ],
   "source": [
    "# Contar valores ausentes\n",
    "print(df.isna().sum())"
   ]
  },
  {
   "cell_type": "markdown",
   "metadata": {
    "id": "74ZIBmq9VrsK"
   },
   "source": [
    "[Volver a Contenidos](#back)"
   ]
  },
  {
   "cell_type": "markdown",
   "metadata": {
    "id": "BWKRtBJ3_Zct"
   },
   "source": [
    "### Duplicados <a id='duplicates'></a>\n",
    "Encuentra el número de duplicados explícitos en la tabla. Una vez más, debes aplicar dos métodos en una secuencia para obtener la cantidad de duplicados explícitos."
   ]
  },
  {
   "cell_type": "code",
   "execution_count": 14,
   "metadata": {
    "id": "36eES_S0_Zct"
   },
   "outputs": [
    {
     "name": "stdout",
     "output_type": "stream",
     "text": [
      "3826\n"
     ]
    }
   ],
   "source": [
    "# Contar duplicados explícitos\n",
    "print(df.duplicated().sum())"
   ]
  },
  {
   "cell_type": "markdown",
   "metadata": {
    "id": "Ot25h6XR_Zct"
   },
   "source": [
    "Ahora, elimina todos los duplicados. Para ello, llama al método que hace exactamente esto."
   ]
  },
  {
   "cell_type": "code",
   "execution_count": 15,
   "metadata": {
    "id": "exFHq6tt_Zct"
   },
   "outputs": [],
   "source": [
    "# Eliminar duplicados explícitos\n",
    "df.drop_duplicates(inplace = True)"
   ]
  },
  {
   "cell_type": "markdown",
   "metadata": {
    "id": "Im2YwBEG_Zct"
   },
   "source": [
    "Comprobemos ahora si eliminamos con éxito todos los duplicados. Cuenta los duplicados explícitos una vez más para asegurarte de haberlos eliminado todos:"
   ]
  },
  {
   "cell_type": "code",
   "execution_count": 16,
   "metadata": {
    "id": "-8PuNWQ0_Zct"
   },
   "outputs": [
    {
     "name": "stdout",
     "output_type": "stream",
     "text": [
      "0\n"
     ]
    }
   ],
   "source": [
    "# Comprobar de nuevo si hay duplicados\n",
    "print(df.duplicated().sum())\n"
   ]
  },
  {
   "cell_type": "markdown",
   "metadata": {
    "id": "QlFBsxAr_Zct"
   },
   "source": [
    "Ahora queremos deshacernos de los duplicados implícitos en la columna `genre`. Por ejemplo, el nombre de un género se puede escribir de varias formas. Dichos errores también pueden afectar al resultado."
   ]
  },
  {
   "cell_type": "markdown",
   "metadata": {
    "id": "eSjWwsOh_Zct"
   },
   "source": [
    "Para hacerlo, primero mostremos una lista de nombres de género únicos, ordenados en orden alfabético. Para ello:\n",
    "* Extrae la columna `genre` del DataFrame.\n",
    "* Llama al método que devolverá todos los valores únicos en la columna extraída.\n"
   ]
  },
  {
   "cell_type": "code",
   "execution_count": 34,
   "metadata": {
    "id": "JIUcqzZN_Zct",
    "scrolled": false
   },
   "outputs": [
    {
     "name": "stdout",
     "output_type": "stream",
     "text": [
      "['Hiphop', 'acid', 'acoustic', 'action', 'adult', 'africa', 'afrikaans', 'alternative', 'ambient', 'americana', 'animated', 'anime', 'arabesk', 'arabic', 'arena', 'argentinetango', 'art', 'audiobook', 'avantgarde', 'axé', 'baile', 'balkan', 'beats', 'bigroom', 'black', 'bluegrass', 'blues', 'bollywood', 'bossa', 'brazilian', 'breakbeat', 'breaks', 'broadway', 'cantautori', 'cantopop', 'canzone', 'caribbean', 'caucasian', 'celtic', 'chamber', 'children', 'chill', 'chinese', 'choral', 'christian', 'christmas', 'classical', 'classicmetal', 'club', 'colombian', 'comedy', 'conjazz', 'contemporary', 'country', 'cuban', 'dance', 'dancehall', 'dancepop', 'dark', 'death', 'deep', 'deutschrock', 'deutschspr', 'dirty', 'disco', 'dnb', 'documentary', 'downbeat', 'downtempo', 'drum', 'dub', 'dubstep', 'eastern', 'easy', 'electronic', 'electropop', 'emo', 'entehno', 'epicmetal', 'estrada', 'ethnic', 'eurofolk', 'european', 'experimental', 'extrememetal', 'fado', 'film', 'fitness', 'flamenco', 'folk', 'folklore', 'folkmetal', 'folkrock', 'folktronica', 'forró', 'frankreich', 'französisch', 'french', 'funk', 'future', 'gangsta', 'garage', 'german', 'ghazal', 'gitarre', 'glitch', 'gospel', 'gothic', 'grime', 'grunge', 'gypsy', 'handsup', \"hard'n'heavy\", 'hardcore', 'hardstyle', 'hardtechno', 'hiphop', 'historisch', 'holiday', 'horror', 'house', 'idm', 'independent', 'indian', 'indie', 'indipop', 'industrial', 'inspirational', 'instrumental', 'international', 'irish', 'jam', 'japanese', 'jazz', 'jewish', 'jpop', 'jungle', 'k-pop', 'karadeniz', 'karaoke', 'kayokyoku', 'korean', 'laiko', 'latin', 'latino', 'leftfield', 'local', 'lounge', 'loungeelectronic', 'lovers', 'malaysian', 'mandopop', 'marschmusik', 'meditative', 'mediterranean', 'melodic', 'metal', 'metalcore', 'mexican', 'middle', 'minimal', 'miscellaneous', 'modern', 'mood', 'mpb', 'muslim', 'native', 'neoklassik', 'neue', 'new', 'newage', 'newwave', 'nu', 'nujazz', 'numetal', 'oceania', 'old', 'opera', 'orchestral', 'other', 'piano', 'pop', 'popelectronic', 'popeurodance', 'post', 'posthardcore', 'postrock', 'power', 'progmetal', 'progressive', 'psychedelic', 'punjabi', 'punk', 'quebecois', 'ragga', 'ram', 'rancheras', 'rap', 'rave', 'reggae', 'reggaeton', 'regional', 'relax', 'religious', 'retro', 'rhythm', 'rnb', 'rnr', 'rock', 'rockabilly', 'romance', 'roots', 'ruspop', 'rusrap', 'rusrock', 'salsa', 'samba', 'schlager', 'self', 'sertanejo', 'shoegazing', 'showtunes', 'singer', 'ska', 'slow', 'smooth', 'soul', 'soulful', 'sound', 'soundtrack', 'southern', 'specialty', 'speech', 'spiritual', 'sport', 'stonerrock', 'surf', 'swing', 'synthpop', 'sängerportrait', 'tango', 'tanzorchester', 'taraftar', 'tech', 'techno', 'thrash', 'top', 'traditional', 'tradjazz', 'trance', 'tribal', 'trip', 'triphop', 'tropical', 'türk', 'türkçe', 'unknown', 'urban', 'uzbek', 'variété', 'vi', 'videogame', 'vocal', 'western', 'world', 'worldbeat', 'ïîï']\n"
     ]
    }
   ],
   "source": [
    "# Inspeccionar los nombres de géneros únicos\n",
    "column_genre = df['genre'].unique()\n",
    "print(sorted(column_genre))\n",
    " "
   ]
  },
  {
   "cell_type": "markdown",
   "metadata": {
    "id": "qej-Qmuo_Zct"
   },
   "source": [
    "Busca en la lista para encontrar duplicados implícitos del género `hiphop`. Estos pueden ser nombres escritos incorrectamente o nombres alternativos para el mismo género.\n",
    "\n",
    "Verás los siguientes duplicados implícitos:\n",
    "* `hip`\n",
    "* `hop`\n",
    "* `hip-hop`\n",
    "\n",
    "Para deshacerte de ellos, crea una función llamada `replace_wrong_genres()` con dos parámetros:\n",
    "* `wrong_genres=`: esta es una lista que contiene todos los valores que necesitas reemplazar.\n",
    "* `correct_genre=`: este es un string que vas a utilizar como reemplazo.\n",
    "\n",
    "Como resultado, la función debería corregir los nombres en la columna `'genre'` de la tabla `df`, es decir, remplazar cada valor de la lista `wrong_genres` por el valor en `correct_genre`.\n",
    "\n",
    "Dentro del cuerpo de la función, utiliza un bucle `'for'` para iterar sobre la lista de géneros incorrectos, extrae la columna `'genre'` y aplica el método `replace` para hacer correcciones."
   ]
  },
  {
   "cell_type": "code",
   "execution_count": 35,
   "metadata": {
    "id": "ErNDkmns_Zct"
   },
   "outputs": [],
   "source": [
    "# Función para reemplazar duplicados implícitos\n",
    "def replace_wrong_genres(df, column, wrong_values, correct_value):\n",
    "    for wrong_value in wrong_values:\n",
    "        df[column]= df[column].replace(wrong_value, correct_value)\n",
    "    return df"
   ]
  },
  {
   "cell_type": "markdown",
   "metadata": {
    "id": "aDoBJxbA_Zct"
   },
   "source": [
    "Ahora, llama a `replace_wrong_genres()` y pásale tales argumentos para que retire los duplicados implícitos (`hip`, `hop` y `hip-hop`) y los reemplace por `hiphop`:"
   ]
  },
  {
   "cell_type": "code",
   "execution_count": 38,
   "metadata": {
    "id": "YN5i2hpmSo09"
   },
   "outputs": [],
   "source": [
    "# Eliminar duplicados implícitos\n",
    "duplicates = ['hip', 'hop', 'hip-hop', 'Hiphop']\n",
    "genre_hh = 'hiphop'\n",
    "df = replace_wrong_genres(df, 'genre', duplicates, genre_hh)\n"
   ]
  },
  {
   "cell_type": "markdown",
   "metadata": {
    "id": "zQKF16_RG15m"
   },
   "source": [
    "Asegúrate de que los nombres duplicados han sido eliminados. Muestra la lista de valores únicos de la columna `'genre'` una vez más:"
   ]
  },
  {
   "cell_type": "code",
   "execution_count": 39,
   "metadata": {
    "id": "wvixALnFG15m"
   },
   "outputs": [
    {
     "name": "stdout",
     "output_type": "stream",
     "text": [
      "['acid', 'acoustic', 'action', 'adult', 'africa', 'afrikaans', 'alternative', 'ambient', 'americana', 'animated', 'anime', 'arabesk', 'arabic', 'arena', 'argentinetango', 'art', 'audiobook', 'avantgarde', 'axé', 'baile', 'balkan', 'beats', 'bigroom', 'black', 'bluegrass', 'blues', 'bollywood', 'bossa', 'brazilian', 'breakbeat', 'breaks', 'broadway', 'cantautori', 'cantopop', 'canzone', 'caribbean', 'caucasian', 'celtic', 'chamber', 'children', 'chill', 'chinese', 'choral', 'christian', 'christmas', 'classical', 'classicmetal', 'club', 'colombian', 'comedy', 'conjazz', 'contemporary', 'country', 'cuban', 'dance', 'dancehall', 'dancepop', 'dark', 'death', 'deep', 'deutschrock', 'deutschspr', 'dirty', 'disco', 'dnb', 'documentary', 'downbeat', 'downtempo', 'drum', 'dub', 'dubstep', 'eastern', 'easy', 'electronic', 'electropop', 'emo', 'entehno', 'epicmetal', 'estrada', 'ethnic', 'eurofolk', 'european', 'experimental', 'extrememetal', 'fado', 'film', 'fitness', 'flamenco', 'folk', 'folklore', 'folkmetal', 'folkrock', 'folktronica', 'forró', 'frankreich', 'französisch', 'french', 'funk', 'future', 'gangsta', 'garage', 'german', 'ghazal', 'gitarre', 'glitch', 'gospel', 'gothic', 'grime', 'grunge', 'gypsy', 'handsup', \"hard'n'heavy\", 'hardcore', 'hardstyle', 'hardtechno', 'hiphop', 'historisch', 'holiday', 'horror', 'house', 'idm', 'independent', 'indian', 'indie', 'indipop', 'industrial', 'inspirational', 'instrumental', 'international', 'irish', 'jam', 'japanese', 'jazz', 'jewish', 'jpop', 'jungle', 'k-pop', 'karadeniz', 'karaoke', 'kayokyoku', 'korean', 'laiko', 'latin', 'latino', 'leftfield', 'local', 'lounge', 'loungeelectronic', 'lovers', 'malaysian', 'mandopop', 'marschmusik', 'meditative', 'mediterranean', 'melodic', 'metal', 'metalcore', 'mexican', 'middle', 'minimal', 'miscellaneous', 'modern', 'mood', 'mpb', 'muslim', 'native', 'neoklassik', 'neue', 'new', 'newage', 'newwave', 'nu', 'nujazz', 'numetal', 'oceania', 'old', 'opera', 'orchestral', 'other', 'piano', 'pop', 'popelectronic', 'popeurodance', 'post', 'posthardcore', 'postrock', 'power', 'progmetal', 'progressive', 'psychedelic', 'punjabi', 'punk', 'quebecois', 'ragga', 'ram', 'rancheras', 'rap', 'rave', 'reggae', 'reggaeton', 'regional', 'relax', 'religious', 'retro', 'rhythm', 'rnb', 'rnr', 'rock', 'rockabilly', 'romance', 'roots', 'ruspop', 'rusrap', 'rusrock', 'salsa', 'samba', 'schlager', 'self', 'sertanejo', 'shoegazing', 'showtunes', 'singer', 'ska', 'slow', 'smooth', 'soul', 'soulful', 'sound', 'soundtrack', 'southern', 'specialty', 'speech', 'spiritual', 'sport', 'stonerrock', 'surf', 'swing', 'synthpop', 'sängerportrait', 'tango', 'tanzorchester', 'taraftar', 'tech', 'techno', 'thrash', 'top', 'traditional', 'tradjazz', 'trance', 'tribal', 'trip', 'triphop', 'tropical', 'türk', 'türkçe', 'unknown', 'urban', 'uzbek', 'variété', 'vi', 'videogame', 'vocal', 'western', 'world', 'worldbeat', 'ïîï']\n"
     ]
    }
   ],
   "source": [
    "# Comprobación de duplicados implícitos\n",
    "column_genre = df['genre'].unique()\n",
    "print(sorted(column_genre))\n",
    " "
   ]
  },
  {
   "cell_type": "markdown",
   "metadata": {
    "id": "ALgNbvF3VtPA"
   },
   "source": [
    "[Volver a Contenidos](#back)"
   ]
  },
  {
   "cell_type": "markdown",
   "metadata": {
    "id": "jz6a9-7HQUDd"
   },
   "source": [
    "### Tus observaciones <a id='data_preprocessing_conclusions'></a>\n",
    "\n",
    "`Describe brevemente lo que has notado al analizar duplicados, cómo abordaste sus eliminaciones y qué resultados obtuviste.`\n",
    "\n",
    "Del presente conjunto de datos observe que había una cantidad de non values en las columnas track, artist y genre, a pesar de esto, los valores faltantes no rebasaban el 2 % del total de los datos en la columna genre que es la que nos podría interesar. De igual forma los valores duplicados no agregarían valor al análisis por lo cual se eliminaron. Para dejar solamente las filas que sean única y ayuden a la prueba de la hipótesis. Puesto que las herramientas de pandas segregan los duplicados explícitos se utilizaron dichas herramientas.\n"
   ]
  },
  {
   "cell_type": "markdown",
   "metadata": {
    "id": "eK1es74rVujj"
   },
   "source": [
    "[Volver a Contenidos](#back)"
   ]
  },
  {
   "cell_type": "markdown",
   "metadata": {
    "id": "WttZHXH0SqKk"
   },
   "source": [
    "## Etapa 3. Prueba de hipótesis <a id='hypothesis'></a>"
   ]
  },
  {
   "cell_type": "markdown",
   "metadata": {
    "id": "Im936VVi_Zcu"
   },
   "source": [
    "### Hipótesis: comparar el comportamiento del usuario o la usuaria en las dos ciudades <a id='activity'></a>"
   ]
  },
  {
   "cell_type": "markdown",
   "metadata": {
    "id": "nwt_MuaL_Zcu"
   },
   "source": [
    "La hipótesis afirma que existen diferencias en la forma en que los usuarios y las usuarias de Springfield y Shelbyville consumen música. Para comprobar esto, usa los datos de tres días de la semana: lunes, miércoles y viernes.\n",
    "\n",
    "* Agrupa a los usuarios y las usuarias por ciudad.\n",
    "* Compara el número de canciones que cada grupo reprodujo el lunes, el miércoles y el viernes.\n"
   ]
  },
  {
   "cell_type": "markdown",
   "metadata": {
    "id": "8Dw_YMmT_Zcu"
   },
   "source": [
    "Realiza cada cálculo por separado.\n",
    "\n",
    "El primer paso es evaluar la actividad del usuario en cada ciudad. Recuerda las etapas dividir-aplicar-combinar de las que hablamos anteriormente en la lección. Tu objetivo ahora es agrupar los datos por ciudad, aplicar el método apropiado para contar durante la etapa de aplicación y luego encontrar la cantidad de canciones reproducidas en cada grupo especificando la columna para obtener el recuento.\n",
    "\n",
    "A continuación se muestra un ejemplo de cómo debería verse el resultado final:\n",
    "`df.groupby(by='....')['column'].method()`Realiza cada cálculo por separado.\n",
    "\n",
    "Para evaluar la actividad de los usuarios y las usuarias en cada ciudad, agrupa los datos por ciudad y encuentra la cantidad de canciones reproducidas en cada grupo.\n",
    "\n"
   ]
  },
  {
   "cell_type": "code",
   "execution_count": 21,
   "metadata": {
    "id": "0_Qs96oh_Zcu"
   },
   "outputs": [
    {
     "name": "stdout",
     "output_type": "stream",
     "text": [
      "city\n",
      "Shelbyville    18512\n",
      "Springfield    42741\n",
      "Name: track, dtype: int64\n"
     ]
    }
   ],
   "source": [
    "# Contar las canciones reproducidas en cada ciudad\n",
    "grouped_cities = df.groupby('city')['track'].count()\n",
    "print(grouped_cities)"
   ]
  },
  {
   "cell_type": "markdown",
   "metadata": {
    "id": "t_Qx-3NewAnK"
   },
   "source": [
    "`Comenta tus observaciones aquí`\n",
    "Los habitantes de la ciudad de Springfield parecen reproducir más música que su contraparte en Shelbyville."
   ]
  },
  {
   "cell_type": "markdown",
   "metadata": {
    "id": "dzli3w8o_Zcu"
   },
   "source": [
    "Ahora agrupemos los datos por día de la semana y encontremos el número de canciones reproducidas el lunes, miércoles y viernes. Utiliza el mismo método que antes, pero ahora necesitamos una agrupación diferente.\n"
   ]
  },
  {
   "cell_type": "code",
   "execution_count": 22,
   "metadata": {
    "id": "uZMKjiJz_Zcu"
   },
   "outputs": [
    {
     "name": "stdout",
     "output_type": "stream",
     "text": [
      "day\n",
      "Friday       21840\n",
      "Monday       21354\n",
      "Wednesday    18059\n",
      "Name: track, dtype: int64\n"
     ]
    }
   ],
   "source": [
    "# Calcular las canciones reproducidas en cada uno de los tres días\n",
    "grouped_date = df.groupby('day')['track'].count()\n",
    "\n",
    "print(grouped_date)"
   ]
  },
  {
   "cell_type": "markdown",
   "metadata": {
    "id": "cC2tNrlL_Zcu"
   },
   "source": [
    "`Comenta tus observaciones aquí`\n",
    "Al parecer los días viernes y lunes hay una similar cantidad de reproducciones a comparación del miércoles."
   ]
  },
  {
   "cell_type": "markdown",
   "metadata": {
    "id": "POzs8bGa_Zcu"
   },
   "source": [
    "Ya sabes cómo contar entradas agrupándolas por ciudad o día. Ahora necesitas escribir una función que pueda contar entradas según ambos criterios simultáneamente.\n",
    "\n",
    "Crea la función `number_tracks()` para calcular el número de canciones reproducidas en un determinado día **y** ciudad. La función debe aceptar dos parámetros:\n",
    "\n",
    "- `day`: un día de la semana para filtrar. Por ejemplo, `'Monday'` (lunes).\n",
    "- `city`: una ciudad para filtrar. Por ejemplo, `'Springfield'`.\n",
    "\n",
    "Dentro de la función, aplicarás un filtrado consecutivo con indexación lógica.\n",
    "\n",
    "Primero filtra los datos por día y luego filtra la tabla resultante por ciudad.\n",
    "\n",
    "Después de filtrar los datos por dos criterios, cuenta el número de valores de la columna 'user_id' en la tabla resultante. Este recuento representa el número de entradas que estás buscando. Guarda el resultado en una nueva variable y devuélvelo desde la función."
   ]
  },
  {
   "cell_type": "code",
   "execution_count": 23,
   "metadata": {
    "id": "Nz3GdQB1_Zcu"
   },
   "outputs": [],
   "source": [
    "# Declara la función number_tracks() con dos parámetros: day= y city=.\n",
    "\n",
    "    # Almacena las filas del DataFrame donde el valor en la columna 'day' es igual al parámetro day=\n",
    "\n",
    "    # Filtra las filas donde el valor en la columna 'city' es igual al parámetro city=\n",
    "\n",
    "    # Extrae la columna 'user_id' de la tabla filtrada y aplica el método count()\n",
    "\n",
    "    # Devolve el número de valores de la columna 'user_id'\n",
    "def number_tracks(df, day, city):\n",
    "    user_day = df[df['day'] == day]\n",
    "    user_day_city = user_day[user_day['city'] == city]\n",
    "    user_day_city_count = user_day_city['user_id'].count()\n",
    "    \n",
    "    return user_day_city_count\n",
    "    "
   ]
  },
  {
   "cell_type": "markdown",
   "metadata": {
    "id": "ytf7xFrFJQ2r"
   },
   "source": [
    "Llama a `number_tracks()` seis veces, cambiando los valores de los parámetros para que recuperes los datos de ambas ciudades para cada uno de los tres días."
   ]
  },
  {
   "cell_type": "code",
   "execution_count": 24,
   "metadata": {
    "id": "rJcRATNQ_Zcu"
   },
   "outputs": [
    {
     "name": "stdout",
     "output_type": "stream",
     "text": [
      "15740\n"
     ]
    }
   ],
   "source": [
    "# El número de canciones reproducidas en Springfield el lunes\n",
    "sl = number_tracks(df,day = 'Monday', city='Springfield')\n",
    "print(sl)"
   ]
  },
  {
   "cell_type": "code",
   "execution_count": 25,
   "metadata": {
    "id": "hq_ncZ5T_Zcu"
   },
   "outputs": [
    {
     "name": "stdout",
     "output_type": "stream",
     "text": [
      "5614\n"
     ]
    }
   ],
   "source": [
    "# El número de canciones reproducidas en Shelbyville el lunes\n",
    "shl = number_tracks(df,day = 'Monday', city = 'Shelbyville')\n",
    "print(shl)"
   ]
  },
  {
   "cell_type": "code",
   "execution_count": 26,
   "metadata": {
    "id": "_NTy2VPU_Zcu"
   },
   "outputs": [
    {
     "name": "stdout",
     "output_type": "stream",
     "text": [
      "11056\n"
     ]
    }
   ],
   "source": [
    "# El número de canciones reproducidas en Springfield el miércoles\n",
    "sm = number_tracks(df, day= 'Wednesday', city = 'Springfield')\n",
    "print(sm)"
   ]
  },
  {
   "cell_type": "code",
   "execution_count": 27,
   "metadata": {
    "id": "j2y3TAwo_Zcu"
   },
   "outputs": [
    {
     "name": "stdout",
     "output_type": "stream",
     "text": [
      "7003\n"
     ]
    }
   ],
   "source": [
    "# El número de canciones reproducidas en Shelbyville el miércoles\n",
    "shm = number_tracks(df, day = 'Wednesday', city = 'Shelbyville')\n",
    "print(shm)"
   ]
  },
  {
   "cell_type": "code",
   "execution_count": 28,
   "metadata": {
    "id": "vYDw5u_K_Zcu"
   },
   "outputs": [
    {
     "name": "stdout",
     "output_type": "stream",
     "text": [
      "15945\n"
     ]
    }
   ],
   "source": [
    "# El número de canciones reproducidas en Springfield el viernes\n",
    "sv = number_tracks(df, day = 'Friday', city = 'Springfield')\n",
    "print(sv)"
   ]
  },
  {
   "cell_type": "code",
   "execution_count": 29,
   "metadata": {
    "id": "8_yzFtW3_Zcu"
   },
   "outputs": [
    {
     "name": "stdout",
     "output_type": "stream",
     "text": [
      "5895\n"
     ]
    }
   ],
   "source": [
    "# El número de canciones reproducidas en Shelbyville el viernes\n",
    "shv = number_tracks(df, day = 'Friday', city = 'Shelbyville')\n",
    "print(shv)"
   ]
  },
  {
   "cell_type": "markdown",
   "metadata": {
    "id": "-EgPIHYu_Zcu"
   },
   "source": [
    "**Conclusiones**\n",
    "\n",
    "`Comenta si la hipótesis es correcta o se debe rechazar. Explica tu razonamiento.`\n",
    "La hipótesis se debe rechazar parcialmente, el número de canciones reproducidas por día es mayor en Springfield en todos los días evaluados pero al dividir estos valor entre la cantidad de habitantes de sus respectivas ciudades (day/user by city) solo en un caso (Wednesday) Shelbyville tiene una relación ligeramente mayor, sin embargo, esa relación representa pocos habitantes para Shelbyville que para Springfield."
   ]
  },
  {
   "cell_type": "markdown",
   "metadata": {
    "id": "p7nFQajCVw5B"
   },
   "source": [
    "[Volver a Contenidos](#back)"
   ]
  },
  {
   "cell_type": "markdown",
   "metadata": {
    "id": "ykKQ0N65_Zcv"
   },
   "source": [
    "# Conclusiones <a id='end'></a>"
   ]
  },
  {
   "cell_type": "markdown",
   "metadata": {
    "id": "tjUwbHb3_Zcv"
   },
   "source": [
    "`Resume aquí tus conclusiones sobre la hipótesis.`\n",
    "Aunque exista una inclinación de más usuarios a escuchar más música en una determinada ciudad, es también cierto que la consideración del número de usuarios en cada ciudad realmente afecta a la balanza de esta hipótesis inicial, ya que puede parecer bastante a simple vista y se podría intuir que al tener más reproducciones por día de una ciudad habrá mayor preferencia a escuchar más música en una ciudad pero en su relación (day/user by city) no se observa una inclinación tan marcada."
   ]
  },
  {
   "cell_type": "markdown",
   "metadata": {
    "id": "azLHu64yOIp7"
   },
   "source": [
    "### Nota\n",
    "En proyectos de investigación reales, la prueba de hipótesis estadística es más precisa y cuantitativa. También ten en cuenta que no siempre se pueden sacar conclusiones sobre una ciudad entera a partir de datos de una sola fuente.\n",
    "\n",
    "Aprenderás más sobre la prueba de hipótesis en el sprint de análisis estadístico de datos."
   ]
  },
  {
   "cell_type": "markdown",
   "metadata": {
    "id": "Ju4AHDSgV1FE"
   },
   "source": [
    "[Volver a Contenidos](#back)"
   ]
  }
 ],
 "metadata": {
  "ExecuteTimeLog": [
   {
    "duration": 304,
    "start_time": "2025-03-05T06:10:19.869Z"
   },
   {
    "duration": 114,
    "start_time": "2025-03-05T06:15:25.096Z"
   },
   {
    "duration": 7,
    "start_time": "2025-03-05T06:15:51.193Z"
   },
   {
    "duration": 22,
    "start_time": "2025-03-05T06:16:16.338Z"
   },
   {
    "duration": 3,
    "start_time": "2025-03-05T07:01:39.880Z"
   },
   {
    "duration": 3,
    "start_time": "2025-03-05T07:04:37.183Z"
   },
   {
    "duration": 175,
    "start_time": "2025-03-05T07:09:01.371Z"
   },
   {
    "duration": 13,
    "start_time": "2025-03-05T07:09:06.543Z"
   },
   {
    "duration": 156,
    "start_time": "2025-03-05T21:10:22.074Z"
   },
   {
    "duration": 298,
    "start_time": "2025-03-05T21:10:33.966Z"
   },
   {
    "duration": 110,
    "start_time": "2025-03-05T21:10:36.118Z"
   },
   {
    "duration": 7,
    "start_time": "2025-03-05T21:10:37.551Z"
   },
   {
    "duration": 23,
    "start_time": "2025-03-05T21:10:38.668Z"
   },
   {
    "duration": 35,
    "start_time": "2025-03-05T21:10:42.889Z"
   },
   {
    "duration": 3,
    "start_time": "2025-03-05T21:10:47.683Z"
   },
   {
    "duration": 3,
    "start_time": "2025-03-06T04:06:01.897Z"
   },
   {
    "duration": 3,
    "start_time": "2025-03-06T04:07:19.644Z"
   },
   {
    "duration": 13,
    "start_time": "2025-03-06T04:08:03.715Z"
   },
   {
    "duration": 11,
    "start_time": "2025-03-06T04:08:41.924Z"
   },
   {
    "duration": 2,
    "start_time": "2025-03-06T04:15:06.281Z"
   },
   {
    "duration": 3,
    "start_time": "2025-03-06T06:31:46.993Z"
   },
   {
    "duration": 3,
    "start_time": "2025-03-06T06:32:07.958Z"
   },
   {
    "duration": 3,
    "start_time": "2025-03-06T06:32:18.874Z"
   },
   {
    "duration": 12,
    "start_time": "2025-03-06T06:32:35.146Z"
   },
   {
    "duration": 2,
    "start_time": "2025-03-06T06:32:42.074Z"
   },
   {
    "duration": 3,
    "start_time": "2025-03-06T06:32:48.218Z"
   },
   {
    "duration": 334,
    "start_time": "2025-03-06T23:33:04.794Z"
   },
   {
    "duration": 154,
    "start_time": "2025-03-06T23:33:05.878Z"
   },
   {
    "duration": 11,
    "start_time": "2025-03-06T23:33:07.212Z"
   },
   {
    "duration": 21,
    "start_time": "2025-03-06T23:33:09.025Z"
   },
   {
    "duration": 3,
    "start_time": "2025-03-06T23:33:13.841Z"
   },
   {
    "duration": 164,
    "start_time": "2025-03-07T03:11:24.256Z"
   },
   {
    "duration": 324,
    "start_time": "2025-03-07T03:11:31.359Z"
   },
   {
    "duration": 125,
    "start_time": "2025-03-07T03:11:32.641Z"
   },
   {
    "duration": 6,
    "start_time": "2025-03-07T03:11:34.270Z"
   },
   {
    "duration": 23,
    "start_time": "2025-03-07T03:11:35.834Z"
   },
   {
    "duration": 4,
    "start_time": "2025-03-07T03:11:38.712Z"
   },
   {
    "duration": 39,
    "start_time": "2025-03-07T03:25:21.544Z"
   },
   {
    "duration": 3,
    "start_time": "2025-03-07T03:25:50.820Z"
   },
   {
    "duration": 3,
    "start_time": "2025-03-07T03:27:05.421Z"
   },
   {
    "duration": 5,
    "start_time": "2025-03-07T03:27:30.272Z"
   },
   {
    "duration": 3,
    "start_time": "2025-03-07T03:27:35.820Z"
   },
   {
    "duration": 4,
    "start_time": "2025-03-07T03:27:43.567Z"
   },
   {
    "duration": 3,
    "start_time": "2025-03-07T03:29:52.148Z"
   },
   {
    "duration": 4,
    "start_time": "2025-03-07T03:39:25.425Z"
   },
   {
    "duration": 3,
    "start_time": "2025-03-07T03:39:48.201Z"
   },
   {
    "duration": 20,
    "start_time": "2025-03-07T03:42:18.196Z"
   },
   {
    "duration": 24,
    "start_time": "2025-03-07T04:07:54.456Z"
   },
   {
    "duration": 27,
    "start_time": "2025-03-07T04:08:45.607Z"
   },
   {
    "duration": 43,
    "start_time": "2025-03-07T04:13:54.297Z"
   },
   {
    "duration": 57,
    "start_time": "2025-03-07T04:16:22.390Z"
   },
   {
    "duration": 42,
    "start_time": "2025-03-07T04:16:58.205Z"
   },
   {
    "duration": 6,
    "start_time": "2025-03-07T04:17:47.982Z"
   },
   {
    "duration": 6,
    "start_time": "2025-03-07T04:18:00.930Z"
   },
   {
    "duration": 5,
    "start_time": "2025-03-07T04:19:39.360Z"
   },
   {
    "duration": 9,
    "start_time": "2025-03-07T04:21:56.875Z"
   },
   {
    "duration": 6,
    "start_time": "2025-03-07T04:28:57.868Z"
   },
   {
    "duration": 4,
    "start_time": "2025-03-07T04:34:04.007Z"
   },
   {
    "duration": 8,
    "start_time": "2025-03-07T04:38:03.058Z"
   },
   {
    "duration": 10,
    "start_time": "2025-03-07T04:38:39.216Z"
   },
   {
    "duration": 8,
    "start_time": "2025-03-07T04:38:55.315Z"
   },
   {
    "duration": 10,
    "start_time": "2025-03-07T04:39:20.798Z"
   },
   {
    "duration": 8,
    "start_time": "2025-03-07T04:39:34.365Z"
   },
   {
    "duration": 9,
    "start_time": "2025-03-07T04:39:56.065Z"
   },
   {
    "duration": 5,
    "start_time": "2025-03-07T04:41:18.466Z"
   },
   {
    "duration": 12,
    "start_time": "2025-03-07T04:41:26.719Z"
   },
   {
    "duration": 6,
    "start_time": "2025-03-07T04:41:44.590Z"
   },
   {
    "duration": 9,
    "start_time": "2025-03-07T04:43:03.799Z"
   },
   {
    "duration": 6,
    "start_time": "2025-03-07T04:43:23.170Z"
   },
   {
    "duration": 289,
    "start_time": "2025-03-07T05:36:21.895Z"
   },
   {
    "duration": 113,
    "start_time": "2025-03-07T05:36:22.583Z"
   },
   {
    "duration": 6,
    "start_time": "2025-03-07T05:36:23.168Z"
   },
   {
    "duration": 21,
    "start_time": "2025-03-07T05:36:24.147Z"
   },
   {
    "duration": 3,
    "start_time": "2025-03-07T05:36:26.565Z"
   },
   {
    "duration": 8,
    "start_time": "2025-03-07T05:36:28.027Z"
   },
   {
    "duration": 4,
    "start_time": "2025-03-07T05:36:29.356Z"
   },
   {
    "duration": 3,
    "start_time": "2025-03-07T05:36:30.311Z"
   },
   {
    "duration": 4,
    "start_time": "2025-03-07T05:36:31.038Z"
   },
   {
    "duration": 17,
    "start_time": "2025-03-07T05:36:32.333Z"
   },
   {
    "duration": 23,
    "start_time": "2025-03-07T05:36:33.857Z"
   },
   {
    "duration": 16,
    "start_time": "2025-03-07T05:36:34.673Z"
   },
   {
    "duration": 42,
    "start_time": "2025-03-07T05:36:35.887Z"
   },
   {
    "duration": 47,
    "start_time": "2025-03-07T05:36:37.271Z"
   },
   {
    "duration": 40,
    "start_time": "2025-03-07T05:36:37.898Z"
   },
   {
    "duration": 5,
    "start_time": "2025-03-07T05:36:38.672Z"
   },
   {
    "duration": 2,
    "start_time": "2025-03-07T05:36:39.801Z"
   },
   {
    "duration": 7,
    "start_time": "2025-03-07T05:36:40.284Z"
   },
   {
    "duration": 6,
    "start_time": "2025-03-07T05:36:40.661Z"
   },
   {
    "duration": 492,
    "start_time": "2025-03-07T05:56:48.963Z"
   },
   {
    "duration": 8,
    "start_time": "2025-03-07T05:57:22.356Z"
   },
   {
    "duration": 10,
    "start_time": "2025-03-07T05:57:44.752Z"
   },
   {
    "duration": 40,
    "start_time": "2025-03-07T06:43:49.166Z"
   },
   {
    "duration": 10,
    "start_time": "2025-03-07T06:44:46.371Z"
   },
   {
    "duration": 114,
    "start_time": "2025-03-07T06:50:48.691Z"
   },
   {
    "duration": 9,
    "start_time": "2025-03-07T06:51:41.924Z"
   },
   {
    "duration": 290,
    "start_time": "2025-03-07T08:39:05.524Z"
   },
   {
    "duration": 111,
    "start_time": "2025-03-07T08:39:07.112Z"
   },
   {
    "duration": 8,
    "start_time": "2025-03-07T08:39:08.359Z"
   },
   {
    "duration": 20,
    "start_time": "2025-03-07T08:39:09.684Z"
   },
   {
    "duration": 2,
    "start_time": "2025-03-07T08:39:12.300Z"
   },
   {
    "duration": 4,
    "start_time": "2025-03-07T08:39:13.138Z"
   },
   {
    "duration": 3,
    "start_time": "2025-03-07T08:39:14.011Z"
   },
   {
    "duration": 3,
    "start_time": "2025-03-07T08:39:14.824Z"
   },
   {
    "duration": 3,
    "start_time": "2025-03-07T08:39:16.155Z"
   },
   {
    "duration": 17,
    "start_time": "2025-03-07T08:39:17.084Z"
   },
   {
    "duration": 23,
    "start_time": "2025-03-07T08:39:18.898Z"
   },
   {
    "duration": 19,
    "start_time": "2025-03-07T08:39:20.015Z"
   },
   {
    "duration": 44,
    "start_time": "2025-03-07T08:39:21.557Z"
   },
   {
    "duration": 48,
    "start_time": "2025-03-07T08:39:21.968Z"
   },
   {
    "duration": 38,
    "start_time": "2025-03-07T08:39:23.007Z"
   },
   {
    "duration": 6,
    "start_time": "2025-03-07T08:39:24.583Z"
   },
   {
    "duration": 3,
    "start_time": "2025-03-07T08:39:25.802Z"
   },
   {
    "duration": 8,
    "start_time": "2025-03-07T08:39:26.714Z"
   },
   {
    "duration": 5,
    "start_time": "2025-03-07T08:39:27.792Z"
   },
   {
    "duration": 10,
    "start_time": "2025-03-07T08:39:33.447Z"
   },
   {
    "duration": 8,
    "start_time": "2025-03-07T08:39:34.791Z"
   },
   {
    "duration": 3,
    "start_time": "2025-03-07T08:39:37.330Z"
   },
   {
    "duration": 2,
    "start_time": "2025-03-07T08:47:41.919Z"
   },
   {
    "duration": 173,
    "start_time": "2025-03-07T08:48:55.131Z"
   },
   {
    "duration": 398,
    "start_time": "2025-03-07T08:49:09.980Z"
   },
   {
    "duration": 49,
    "start_time": "2025-03-07T08:49:14.557Z"
   },
   {
    "duration": 3,
    "start_time": "2025-03-07T08:51:34.360Z"
   },
   {
    "duration": 163,
    "start_time": "2025-03-07T08:51:37.158Z"
   },
   {
    "duration": 55,
    "start_time": "2025-03-07T08:53:01.527Z"
   },
   {
    "duration": 3,
    "start_time": "2025-03-07T08:53:47.453Z"
   },
   {
    "duration": 120,
    "start_time": "2025-03-07T08:53:50.279Z"
   },
   {
    "duration": 3,
    "start_time": "2025-03-07T08:54:59.986Z"
   },
   {
    "duration": 17,
    "start_time": "2025-03-07T08:55:02.322Z"
   },
   {
    "duration": 3,
    "start_time": "2025-03-07T08:56:23.008Z"
   },
   {
    "duration": 13,
    "start_time": "2025-03-07T08:56:28.640Z"
   },
   {
    "duration": 13,
    "start_time": "2025-03-07T08:58:24.540Z"
   },
   {
    "duration": 12,
    "start_time": "2025-03-07T09:11:42.563Z"
   },
   {
    "duration": 11,
    "start_time": "2025-03-07T09:11:44.955Z"
   },
   {
    "duration": 13,
    "start_time": "2025-03-07T09:12:36.809Z"
   },
   {
    "duration": 10,
    "start_time": "2025-03-07T09:13:18.203Z"
   },
   {
    "duration": 12,
    "start_time": "2025-03-07T09:13:31.210Z"
   },
   {
    "duration": 163,
    "start_time": "2025-03-07T23:12:13.804Z"
   },
   {
    "duration": 312,
    "start_time": "2025-03-07T23:12:40.893Z"
   },
   {
    "duration": 123,
    "start_time": "2025-03-07T23:12:41.279Z"
   },
   {
    "duration": 7,
    "start_time": "2025-03-07T23:12:41.760Z"
   },
   {
    "duration": 21,
    "start_time": "2025-03-07T23:12:42.665Z"
   },
   {
    "duration": 4,
    "start_time": "2025-03-07T23:12:44.765Z"
   },
   {
    "duration": 4,
    "start_time": "2025-03-07T23:12:45.453Z"
   },
   {
    "duration": 4,
    "start_time": "2025-03-07T23:12:46.275Z"
   },
   {
    "duration": 3,
    "start_time": "2025-03-07T23:12:46.674Z"
   },
   {
    "duration": 3,
    "start_time": "2025-03-07T23:12:47.070Z"
   },
   {
    "duration": 18,
    "start_time": "2025-03-07T23:12:47.969Z"
   },
   {
    "duration": 25,
    "start_time": "2025-03-07T23:12:48.523Z"
   },
   {
    "duration": 18,
    "start_time": "2025-03-07T23:12:49.369Z"
   },
   {
    "duration": 44,
    "start_time": "2025-03-07T23:12:51.130Z"
   },
   {
    "duration": 55,
    "start_time": "2025-03-07T23:12:51.683Z"
   },
   {
    "duration": 39,
    "start_time": "2025-03-07T23:12:52.157Z"
   },
   {
    "duration": 6,
    "start_time": "2025-03-07T23:12:53.213Z"
   },
   {
    "duration": 3,
    "start_time": "2025-03-07T23:12:54.359Z"
   },
   {
    "duration": 8,
    "start_time": "2025-03-07T23:12:55.018Z"
   },
   {
    "duration": 6,
    "start_time": "2025-03-07T23:12:57.463Z"
   },
   {
    "duration": 8,
    "start_time": "2025-03-07T23:13:00.688Z"
   },
   {
    "duration": 9,
    "start_time": "2025-03-07T23:13:02.243Z"
   },
   {
    "duration": 3,
    "start_time": "2025-03-07T23:13:03.796Z"
   },
   {
    "duration": 16,
    "start_time": "2025-03-07T23:13:04.438Z"
   },
   {
    "duration": 15,
    "start_time": "2025-03-07T23:13:04.719Z"
   },
   {
    "duration": 12,
    "start_time": "2025-03-07T23:13:04.993Z"
   },
   {
    "duration": 11,
    "start_time": "2025-03-07T23:13:05.442Z"
   },
   {
    "duration": 13,
    "start_time": "2025-03-07T23:13:05.661Z"
   },
   {
    "duration": 13,
    "start_time": "2025-03-07T23:13:05.850Z"
   },
   {
    "duration": 6,
    "start_time": "2025-03-07T23:26:48.678Z"
   },
   {
    "duration": 6,
    "start_time": "2025-03-07T23:27:55.062Z"
   },
   {
    "duration": 6,
    "start_time": "2025-03-07T23:28:10.873Z"
   },
   {
    "duration": 6,
    "start_time": "2025-03-07T23:28:22.723Z"
   },
   {
    "duration": 6,
    "start_time": "2025-03-07T23:28:40.763Z"
   },
   {
    "duration": 3,
    "start_time": "2025-03-07T23:30:11.417Z"
   },
   {
    "duration": 7,
    "start_time": "2025-03-07T23:30:13.181Z"
   },
   {
    "duration": 6,
    "start_time": "2025-03-07T23:30:33.498Z"
   },
   {
    "duration": 9,
    "start_time": "2025-03-07T23:31:01.223Z"
   },
   {
    "duration": 6,
    "start_time": "2025-03-07T23:31:04.597Z"
   }
  ],
  "colab": {
   "collapsed_sections": [
    "E0vqbgi9ay0H",
    "VUC88oWjTJw2"
   ],
   "provenance": []
  },
  "kernelspec": {
   "display_name": "Python 3",
   "language": "python",
   "name": "python3"
  },
  "language_info": {
   "codemirror_mode": {
    "name": "ipython",
    "version": 3
   },
   "file_extension": ".py",
   "mimetype": "text/x-python",
   "name": "python",
   "nbconvert_exporter": "python",
   "pygments_lexer": "ipython3",
   "version": "3.8.5"
  },
  "toc": {
   "base_numbering": 1,
   "nav_menu": {},
   "number_sections": true,
   "sideBar": true,
   "skip_h1_title": true,
   "title_cell": "Table of Contents",
   "title_sidebar": "Contents",
   "toc_cell": false,
   "toc_position": {},
   "toc_section_display": true,
   "toc_window_display": false
  }
 },
 "nbformat": 4,
 "nbformat_minor": 1
}
